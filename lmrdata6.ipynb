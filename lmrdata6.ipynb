{
 "cells": [
  {
   "cell_type": "code",
   "execution_count": 39,
   "metadata": {
    "collapsed": false
   },
   "outputs": [],
   "source": [
    "%matplotlib inline\n",
    "%qtconsole\n",
    "\n",
    "import os\n",
    "import cPickle\n",
    "import numpy as np\n",
    "import pandas\n",
    "from scipy import linalg\n",
    "\n",
    "import matplotlib\n",
    "import matplotlib.pyplot as plt\n",
    "import matplotlib.colors as colors\n",
    "from matplotlib.figure import Figure\n",
    "from matplotlib.colors import from_levels_and_colors\n",
    "from mpl_toolkits.basemap import Basemap\n",
    "from getSkill import getSkill\n",
    "from t_subsample import t_subsample\n",
    "\n",
    "figdir = 'Figs/'\n",
    "\n",
    "proxy_pandas_metafile = 'NCDC_v0.1.0all_Metadata.df.pckl'\n",
    "proxy_pandas_datafile = 'NCDC_v0.1.0all_Proxies.df.pckl'\n",
    "\n",
    "proxy_meta = pandas.read_pickle(proxy_pandas_metafile)\n",
    "proxy_data = pandas.read_pickle(proxy_pandas_datafile)\n"
   ]
  },
  {
   "cell_type": "markdown",
   "metadata": {},
   "source": [
    "Notes\n",
    "\n",
    " Groups are coded as follows:\n",
    " - 'c': 'Corals_and_Sclerosponges'\n",
    " - 'i': 'Ice_Cores'\n",
    " - 'l': 'Lake_Cores'\n",
    " - 'm': 'Marine_Cores'\n",
    " - 's': 'Speleothems'\n",
    " - 't': 'Tree_Rings'\n",
    "\n",
    "tau is the predictive time scale. It is also the size of the bin width used to average records in time.\n",
    "\n",
    "**Some observations**\n",
    "- Just looking at different lag covariances is interesting\n",
    "- If I don't condition the pseudoinverse, G gets very small\n",
    "\n",
    "\n"
   ]
  },
  {
   "cell_type": "code",
   "execution_count": null,
   "metadata": {
    "collapsed": false,
    "scrolled": false
   },
   "outputs": [
    {
     "name": "stdout",
     "output_type": "stream",
     "text": [
      "> /Users/dan/Dropbox (MIT)/2016-2017/LMR/t_subsample.py(34)t_subsample()\n",
      "-> for ii in np.arange(0,len((recdf.columns))):\n"
     ]
    }
   ],
   "source": [
    "# Experiment 1\n",
    "# \n",
    "\n",
    "tau = 2\n",
    "calInt = [1800,1900]\n",
    "valInt = [1900,1950]\n",
    "#valInt = calInt\n",
    "\n",
    "#data_types = {'c', 'i','l','m','s','t'}\n",
    "data_types = {'c'}\n",
    "doEOF = True\n",
    "doDetrend=True\n",
    "\n",
    "corrdf,rmsedf,G,c0,ct,pmSkill = getSkill(data_types,proxy_data,proxy_meta,tau,calInt,valInt,doEOF,10,doDetrend)\n",
    "\n"
   ]
  },
  {
   "cell_type": "code",
   "execution_count": null,
   "metadata": {
    "collapsed": false,
    "scrolled": false
   },
   "outputs": [],
   "source": [
    "# Experiment 1.1\n",
    "# EOF vs proxy basis appears to make little/no difference in the reconstruction when there is not much EOF truncation (tol = 0.1*max(lambda))\n",
    "\n",
    "tau = 1\n",
    "calInt = [1700,1800]\n",
    "valInt = [1800,1900]\n",
    "#valInt = calInt\n",
    "\n",
    "data_types = {'c', 'i','l','m','s','t'}\n",
    "doEOF = False\n",
    "\n",
    "rdf,G,c0,ct,pmSkill = getSkill(data_types,proxy_data,proxy_meta,tau,calInt,valInt,doEOF)\n",
    "\n"
   ]
  },
  {
   "cell_type": "code",
   "execution_count": null,
   "metadata": {
    "collapsed": false,
    "scrolled": false
   },
   "outputs": [],
   "source": [
    "# Experiment 1.2\n",
    "# Same cal and val. Little discernible improvement\n",
    "\n",
    "tau = 1\n",
    "calInt = [1800,1900]\n",
    "valInt = [1800,1900]\n",
    "#valInt = calInt\n",
    "\n",
    "data_types = {'c', 'i','l','m','s','t'}\n",
    "doEOF = False\n",
    "\n",
    "rdf,G,c0,ct,pmSkill = getSkill(data_types,proxy_data,proxy_meta,tau,calInt,valInt,doEOF)\n",
    "\n",
    "\n"
   ]
  },
  {
   "cell_type": "code",
   "execution_count": null,
   "metadata": {
    "collapsed": false,
    "scrolled": false
   },
   "outputs": [],
   "source": [
    "# Experiment 2\n",
    "# Longer calibration interval, just trees\n",
    "\n",
    "tau = 10\n",
    "calInt = [1500,1800]\n",
    "valInt = [1800,1900]\n",
    "#valInt = calInt\n",
    "\n",
    "data_types = {'t'}\n",
    "doEOF = True\n",
    "\n",
    "rdf,G,c0,ct,pmSkill = getSkill(data_types,proxy_data,proxy_meta,tau,calInt,valInt,doEOF)\n",
    "\n"
   ]
  },
  {
   "cell_type": "code",
   "execution_count": null,
   "metadata": {
    "collapsed": false,
    "scrolled": false
   },
   "outputs": [],
   "source": [
    "# Experiment 2\n",
    "# Longer calibration interval, just trees\n",
    "\n",
    "tau = 1\n",
    "calInt = [1500,1800]\n",
    "valInt = [1800,1900]\n",
    "#valInt = calInt\n",
    "\n",
    "data_types = {'c', 'i','l','m','s','t'}\n",
    "doEOF = True\n",
    "\n",
    "rdf,G,c0,ct,pmSkill = getSkill(data_types,proxy_data,proxy_meta,tau,calInt,valInt,doEOF)\n",
    "\n",
    "\n",
    "\n"
   ]
  }
 ],
 "metadata": {
  "anaconda-cloud": {},
  "kernelspec": {
   "display_name": "Python 2",
   "language": "python",
   "name": "python2"
  },
  "language_info": {
   "codemirror_mode": {
    "name": "ipython",
    "version": 2
   },
   "file_extension": ".py",
   "mimetype": "text/x-python",
   "name": "python",
   "nbconvert_exporter": "python",
   "pygments_lexer": "ipython2",
   "version": "2.7.12"
  }
 },
 "nbformat": 4,
 "nbformat_minor": 0
}
