{
 "cells": [
  {
   "cell_type": "raw",
   "metadata": {
    "collapsed": true
   },
   "source": [
    " <script>\n",
    "  function code_toggle() {\n",
    "    if (code_shown){\n",
    "      $('div.input').hide('500');\n",
    "      $('#toggleButton').val('Show Code')\n",
    "    } else {\n",
    "      $('div.input').show('500');\n",
    "      $('#toggleButton').val('Hide Code')\n",
    "    }\n",
    "    code_shown = !code_shown\n",
    "  }\n",
    "\n",
    "  $( document ).ready(function(){\n",
    "    code_shown=false;\n",
    "    $('div.input').hide()\n",
    "  });\n",
    "</script>\n",
    "<form action=\"javascript:code_toggle()\"><input type=\"submit\" id=\"toggleButton\" value=\"Show Code\"></form>"
   ]
  },
  {
   "cell_type": "code",
   "execution_count": 2,
   "metadata": {
    "collapsed": false
   },
   "outputs": [],
   "source": [
    "%matplotlib inline\n",
    "%qtconsole\n",
    "\n",
    "import os\n",
    "import cPickle\n",
    "import numpy as np\n",
    "import pandas\n",
    "from scipy import linalg\n",
    "\n",
    "import matplotlib\n",
    "import matplotlib.pyplot as plt\n",
    "import matplotlib.colors as colors\n",
    "from matplotlib.figure import Figure\n",
    "from matplotlib.colors import from_levels_and_colors\n",
    "from mpl_toolkits.basemap import Basemap\n",
    "from getSkill import getSkill\n",
    "from t_subsample import t_subsample\n",
    "\n",
    "figdir = 'Figs/'\n",
    "\n",
    "proxy_pandas_metafile = 'NCDC_v0.1.0all_Metadata.df.pckl'\n",
    "proxy_pandas_datafile = 'NCDC_v0.1.0all_Proxies.df.pckl'\n",
    "\n",
    "proxy_meta = pandas.read_pickle(proxy_pandas_metafile)\n",
    "proxy_data = pandas.read_pickle(proxy_pandas_datafile)\n"
   ]
  },
  {
   "cell_type": "markdown",
   "metadata": {},
   "source": [
    "Notes\n",
    "\n",
    " Groups are coded as follows:\n",
    " - 'c': 'Corals_and_Sclerosponges'\n",
    " - 'i': 'Ice_Cores'\n",
    " - 'l': 'Lake_Cores'\n",
    " - 'm': 'Marine_Cores'\n",
    " - 's': 'Speleothems'\n",
    " - 't': 'Tree_Rings'\n",
    "\n",
    "tau is the predictive time scale. It is also the size of the bin width used to average records in time.\n",
    "\n",
    "**Some observations**\n",
    "- Just looking at different lag covariances is interesting\n",
    "- If I don't condition the pseudoinverse, G gets very small\n",
    "\n",
    "\n"
   ]
  },
  {
   "cell_type": "code",
   "execution_count": 3,
   "metadata": {
    "collapsed": false,
    "scrolled": false
   },
   "outputs": [
    {
     "ename": "NameError",
     "evalue": "global name 't_subsample' is not defined",
     "output_type": "error",
     "traceback": [
      "\u001b[0;31m---------------------------------------------------------------------------\u001b[0m",
      "\u001b[0;31mNameError\u001b[0m                                 Traceback (most recent call last)",
      "\u001b[0;32m<ipython-input-3-04982c2426e2>\u001b[0m in \u001b[0;36m<module>\u001b[0;34m()\u001b[0m\n\u001b[1;32m     10\u001b[0m \u001b[0mdoEOF\u001b[0m \u001b[0;34m=\u001b[0m \u001b[0mTrue\u001b[0m\u001b[0;34m\u001b[0m\u001b[0m\n\u001b[1;32m     11\u001b[0m \u001b[0;34m\u001b[0m\u001b[0m\n\u001b[0;32m---> 12\u001b[0;31m \u001b[0mrdf\u001b[0m\u001b[0;34m,\u001b[0m\u001b[0mG\u001b[0m\u001b[0;34m,\u001b[0m\u001b[0mc0\u001b[0m\u001b[0;34m,\u001b[0m\u001b[0mct\u001b[0m\u001b[0;34m,\u001b[0m\u001b[0mpmSkill\u001b[0m \u001b[0;34m=\u001b[0m \u001b[0mgetSkill\u001b[0m\u001b[0;34m(\u001b[0m\u001b[0mdata_types\u001b[0m\u001b[0;34m,\u001b[0m\u001b[0mproxy_data\u001b[0m\u001b[0;34m,\u001b[0m\u001b[0mproxy_meta\u001b[0m\u001b[0;34m,\u001b[0m\u001b[0mtau\u001b[0m\u001b[0;34m,\u001b[0m\u001b[0mcalInt\u001b[0m\u001b[0;34m,\u001b[0m\u001b[0mvalInt\u001b[0m\u001b[0;34m,\u001b[0m\u001b[0mdoEOF\u001b[0m\u001b[0;34m)\u001b[0m\u001b[0;34m\u001b[0m\u001b[0m\n\u001b[0m\u001b[1;32m     13\u001b[0m \u001b[0;34m\u001b[0m\u001b[0m\n",
      "\u001b[0;32m/Users/dan/Dropbox (MIT)/2016-2017/LMR/getSkill.py\u001b[0m in \u001b[0;36mgetSkill\u001b[0;34m(data_types, proxy_data, proxy_meta, tau, calInt, valInt, doEOF)\u001b[0m\n\u001b[1;32m     66\u001b[0m     \u001b[0;31m# In general these outputs can have many missing values.\u001b[0m\u001b[0;34m\u001b[0m\u001b[0;34m\u001b[0m\u001b[0m\n\u001b[1;32m     67\u001b[0m \u001b[0;34m\u001b[0m\u001b[0m\n\u001b[0;32m---> 68\u001b[0;31m     \u001b[0mpd_caln\u001b[0m \u001b[0;34m=\u001b[0m \u001b[0mt_subsample\u001b[0m\u001b[0;34m(\u001b[0m\u001b[0mpdr\u001b[0m\u001b[0;34m,\u001b[0m\u001b[0mtau\u001b[0m\u001b[0;34m,\u001b[0m\u001b[0mcalInt\u001b[0m\u001b[0;34m)\u001b[0m\u001b[0;34m\u001b[0m\u001b[0m\n\u001b[0m\u001b[1;32m     69\u001b[0m     \u001b[0mpd_valn\u001b[0m \u001b[0;34m=\u001b[0m \u001b[0mt_subsample\u001b[0m\u001b[0;34m(\u001b[0m\u001b[0mpdr\u001b[0m\u001b[0;34m,\u001b[0m\u001b[0mtau\u001b[0m\u001b[0;34m,\u001b[0m\u001b[0mvalInt\u001b[0m\u001b[0;34m)\u001b[0m\u001b[0;34m\u001b[0m\u001b[0m\n\u001b[1;32m     70\u001b[0m \u001b[0;34m\u001b[0m\u001b[0m\n",
      "\u001b[0;31mNameError\u001b[0m: global name 't_subsample' is not defined"
     ]
    }
   ],
   "source": [
    "# Experiment 1\n",
    "# \n",
    "\n",
    "tau = 1\n",
    "calInt = [1700,1800]\n",
    "valInt = [1800,1900]\n",
    "#valInt = calInt\n",
    "\n",
    "data_types = {'c', 'i','l','m','s','t'}\n",
    "doEOF = True\n",
    "\n",
    "rdf,G,c0,ct,pmSkill = getSkill(data_types,proxy_data,proxy_meta,tau,calInt,valInt,doEOF)\n",
    "\n"
   ]
  },
  {
   "cell_type": "code",
   "execution_count": null,
   "metadata": {
    "collapsed": false,
    "scrolled": false
   },
   "outputs": [],
   "source": [
    "# Experiment 1.1\n",
    "# EOF vs proxy basis appears to make little/no difference in the reconstruction when there is not much EOF truncation (tol = 0.1*max(lambda))\n",
    "\n",
    "tau = 1\n",
    "calInt = [1700,1800]\n",
    "valInt = [1800,1900]\n",
    "#valInt = calInt\n",
    "\n",
    "data_types = {'c', 'i','l','m','s','t'}\n",
    "doEOF = False\n",
    "\n",
    "rdf,G,c0,ct,pmSkill = getSkill(data_types,proxy_data,proxy_meta,tau,calInt,valInt,doEOF)\n",
    "\n"
   ]
  },
  {
   "cell_type": "code",
   "execution_count": null,
   "metadata": {
    "collapsed": false,
    "scrolled": false
   },
   "outputs": [],
   "source": [
    "# Experiment 1.2\n",
    "# Same cal and val. Little discernible improvement\n",
    "\n",
    "tau = 1\n",
    "calInt = [1800,1900]\n",
    "valInt = [1800,1900]\n",
    "#valInt = calInt\n",
    "\n",
    "data_types = {'c', 'i','l','m','s','t'}\n",
    "doEOF = False\n",
    "\n",
    "rdf,G,c0,ct,pmSkill = getSkill(data_types,proxy_data,proxy_meta,tau,calInt,valInt,doEOF)\n",
    "\n",
    "\n"
   ]
  },
  {
   "cell_type": "code",
   "execution_count": null,
   "metadata": {
    "collapsed": false,
    "scrolled": false
   },
   "outputs": [],
   "source": [
    "# Experiment 2\n",
    "# Longer calibration interval, just trees\n",
    "\n",
    "tau = 10\n",
    "calInt = [1500,1800]\n",
    "valInt = [1800,1900]\n",
    "#valInt = calInt\n",
    "\n",
    "data_types = {'t'}\n",
    "doEOF = True\n",
    "\n",
    "rdf,G,c0,ct,pmSkill = getSkill(data_types,proxy_data,proxy_meta,tau,calInt,valInt,doEOF)\n",
    "\n"
   ]
  },
  {
   "cell_type": "code",
   "execution_count": null,
   "metadata": {
    "collapsed": false,
    "scrolled": false
   },
   "outputs": [],
   "source": [
    "# Experiment 2\n",
    "# Longer calibration interval, just trees\n",
    "\n",
    "tau = 1\n",
    "calInt = [1500,1800]\n",
    "valInt = [1800,1900]\n",
    "#valInt = calInt\n",
    "\n",
    "data_types = {'c', 'i','l','m','s','t'}\n",
    "doEOF = True\n",
    "\n",
    "rdf,G,c0,ct,pmSkill = getSkill(data_types,proxy_data,proxy_meta,tau,calInt,valInt,doEOF)\n",
    "\n",
    "\n",
    "\n"
   ]
  }
 ],
 "metadata": {
  "kernelspec": {
   "display_name": "Python 2",
   "language": "python",
   "name": "python2"
  },
  "language_info": {
   "codemirror_mode": {
    "name": "ipython",
    "version": 2
   },
   "file_extension": ".py",
   "mimetype": "text/x-python",
   "name": "python",
   "nbconvert_exporter": "python",
   "pygments_lexer": "ipython2",
   "version": "2.7.12"
  }
 },
 "nbformat": 4,
 "nbformat_minor": 0
}
